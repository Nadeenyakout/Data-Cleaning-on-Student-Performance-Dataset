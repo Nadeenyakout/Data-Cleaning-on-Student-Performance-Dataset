{
 "cells": [
  {
   "cell_type": "markdown",
   "id": "0b4ae121",
   "metadata": {},
   "source": [
    "# Student Success – Data Preprocessing and Cleaning Challenge"
   ]
  },
  {
   "cell_type": "markdown",
   "id": "993f1609",
   "metadata": {},
   "source": [
    "\n",
    "**Objective:** Apply practical data cleaning and preprocessing techniques on the *StudentsPerformance.csv* dataset, preparing it for ML workflows.\n",
    "\n",
    "**Dataset:** [Kaggle: Student Performance Dataset](https://www.kaggle.com/datasets/spscientist/students-performance-in-exams)\n"
   ]
  },
  {
   "cell_type": "code",
   "execution_count": null,
   "id": "10478c4d",
   "metadata": {},
   "outputs": [],
   "source": [
    "\n",
    "import pandas as pd\n",
    "import numpy as np\n",
    "from sklearn.preprocessing import MinMaxScaler\n"
   ]
  },
  {
   "cell_type": "markdown",
   "id": "115c0e4b",
   "metadata": {},
   "source": [
    "## 1. Load Dataset"
   ]
  },
  {
   "cell_type": "code",
   "execution_count": null,
   "id": "2898e065",
   "metadata": {},
   "outputs": [],
   "source": [
    "\n",
    "# Load dataset\n",
    "df = pd.read_csv(\"StudentsPerformance.csv\")\n",
    "print(\"Dataset shape:\", df.shape)\n",
    "df.head()\n"
   ]
  },
  {
   "cell_type": "markdown",
   "id": "454e3975",
   "metadata": {},
   "source": [
    "## 2. Drop Unnecessary Columns"
   ]
  },
  {
   "cell_type": "code",
   "execution_count": null,
   "id": "ef1bfacd",
   "metadata": {},
   "outputs": [],
   "source": [
    "\n",
    "# Check columns\n",
    "df.info()\n",
    "\n",
    "# Drop columns if they exist (example: 'ID')\n",
    "if 'ID' in df.columns:\n",
    "    df = df.drop(columns=['ID'])\n"
   ]
  },
  {
   "cell_type": "markdown",
   "id": "37f74cb3",
   "metadata": {},
   "source": [
    "## 3. Handle Missing Values"
   ]
  },
  {
   "cell_type": "code",
   "execution_count": null,
   "id": "c4d14fb1",
   "metadata": {},
   "outputs": [],
   "source": [
    "\n",
    "# Check for missing values\n",
    "print(df.isnull().sum())\n",
    "\n",
    "# Drop or fill missing values (example: drop rows with NaN)\n",
    "df = df.dropna()\n"
   ]
  },
  {
   "cell_type": "markdown",
   "id": "cfafb3b9",
   "metadata": {},
   "source": [
    "## 4. Encode Categorical Variables"
   ]
  },
  {
   "cell_type": "code",
   "execution_count": null,
   "id": "9739b85c",
   "metadata": {},
   "outputs": [],
   "source": [
    "\n",
    "# Apply one-hot encoding\n",
    "df_encoded = pd.get_dummies(\n",
    "    df,\n",
    "    columns=[\n",
    "        \"gender\",\n",
    "        \"race/ethnicity\",\n",
    "        \"parental level of education\",\n",
    "        \"lunch\",\n",
    "        \"test preparation course\",\n",
    "    ],\n",
    "    drop_first=True\n",
    ")\n",
    "\n",
    "df_encoded.head()\n"
   ]
  },
  {
   "cell_type": "markdown",
   "id": "9f7ebf97",
   "metadata": {},
   "source": [
    "## 5. Normalize Numerical Columns"
   ]
  },
  {
   "cell_type": "code",
   "execution_count": null,
   "id": "fbdda069",
   "metadata": {},
   "outputs": [],
   "source": [
    "\n",
    "scaler = MinMaxScaler()\n",
    "num_cols = [\"math score\", \"reading score\", \"writing score\"]\n",
    "df_encoded[num_cols] = scaler.fit_transform(df_encoded[num_cols])\n",
    "\n",
    "df_encoded.head()\n"
   ]
  },
  {
   "cell_type": "markdown",
   "id": "486d1f97",
   "metadata": {},
   "source": [
    "## 6. Export Cleaned Dataset"
   ]
  },
  {
   "cell_type": "code",
   "execution_count": null,
   "id": "b24d9b7a",
   "metadata": {},
   "outputs": [],
   "source": [
    "\n",
    "df_encoded.to_csv(\"students_cleaned.csv\", index=False)\n",
    "print(\"Cleaned dataset saved as students_cleaned.csv\")\n"
   ]
  },
  {
   "cell_type": "markdown",
   "id": "a91b3009",
   "metadata": {},
   "source": [
    "## 7. Reflection"
   ]
  },
  {
   "cell_type": "markdown",
   "id": "0b9c4d90",
   "metadata": {},
   "source": [
    "\n",
    "- I used **one-hot encoding** because it avoids imposing ordinal relationships on categorical variables.  \n",
    "- **Normalization** helps ML models (like gradient descent-based algorithms) converge faster and ensures features contribute equally.  \n",
    "- The most challenging step was **encoding categorical data**, since it requires careful handling to avoid multicollinearity and exploding feature dimensions.  \n"
   ]
  }
 ],
 "metadata": {},
 "nbformat": 4,
 "nbformat_minor": 5
}
